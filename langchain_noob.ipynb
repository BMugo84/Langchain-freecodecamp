{
  "cells": [
    {
      "cell_type": "markdown",
      "metadata": {
        "id": "view-in-github",
        "colab_type": "text"
      },
      "source": [
        "<a href=\"https://colab.research.google.com/github/BMugo84/Langchain-freecodecamp/blob/main/langchain_noob.ipynb\" target=\"_parent\"><img src=\"https://colab.research.google.com/assets/colab-badge.svg\" alt=\"Open In Colab\"/></a>"
      ]
    },
    {
      "cell_type": "markdown",
      "metadata": {
        "id": "AU20XWwkwi6v"
      },
      "source": [
        "Begineer Langchain Dev from freecodecamp"
      ]
    },
    {
      "cell_type": "markdown",
      "metadata": {
        "id": "P2aU92r0USb7"
      },
      "source": [
        "## ⌨️ (0:00:00) Overview\n"
      ]
    },
    {
      "cell_type": "markdown",
      "source": [
        "![img](https://raw.githubusercontent.com/BMugo84/Langchain-freecodecamp/refs/heads/main/Screenshot%202024-11-23%20093746.png)"
      ],
      "metadata": {
        "id": "hr9fKBAE7W3c"
      }
    },
    {
      "cell_type": "markdown",
      "metadata": {
        "id": "9V6ZIRGGUSb9"
      },
      "source": [
        "## ⌨️ (0:05:53) Indexing\n"
      ]
    },
    {
      "cell_type": "markdown",
      "source": [
        "![img](https://raw.githubusercontent.com/BMugo84/Langchain-freecodecamp/refs/heads/main/Screenshot%202024-11-24%20104630.png)"
      ],
      "metadata": {
        "id": "k87gScH3FP-t"
      }
    },
    {
      "cell_type": "markdown",
      "metadata": {
        "id": "o95Ev2UHUSb_"
      },
      "source": [
        "## ⌨️ (0:10:40) Retrieval\n"
      ]
    },
    {
      "cell_type": "markdown",
      "metadata": {
        "id": "dN_CopIdUScA"
      },
      "source": [
        "## ⌨️ (0:15:52) Generation\n"
      ]
    },
    {
      "cell_type": "markdown",
      "metadata": {
        "id": "oQIGvVTgUScA"
      },
      "source": [
        "## ⌨️ (0:22:14) Query Translation (Multi-Query)\n"
      ]
    },
    {
      "cell_type": "markdown",
      "metadata": {
        "id": "8_9I32IrUScB"
      },
      "source": [
        "## ⌨️ (0:28:20) Query Translation (RAG Fusion)\n"
      ]
    },
    {
      "cell_type": "markdown",
      "metadata": {
        "id": "SYSnteLeUScC"
      },
      "source": [
        "## ⌨️ (0:33:57) Query Translation (Decomposition)\n"
      ]
    },
    {
      "cell_type": "markdown",
      "metadata": {
        "id": "ttmz_EXRUScD"
      },
      "source": [
        "## ⌨️ (0:40:31) Query Translation (Step Back)\n"
      ]
    },
    {
      "cell_type": "markdown",
      "metadata": {
        "id": "aHmGgCLDUScE"
      },
      "source": [
        "## ⌨️ (0:47:24) Query Translation (HyDE)\n"
      ]
    },
    {
      "cell_type": "markdown",
      "metadata": {
        "id": "otnZ9qnaUScE"
      },
      "source": [
        "## ⌨️ (0:52:07) Routing\n"
      ]
    },
    {
      "cell_type": "markdown",
      "metadata": {
        "id": "-XghdJHLUScF"
      },
      "source": [
        "## ⌨️ (0:59:08) Query Construction\n"
      ]
    },
    {
      "cell_type": "markdown",
      "metadata": {
        "id": "OP1Zcsp2UScF"
      },
      "source": [
        "## ⌨️ (1:05:05) Indexing (Multi Representation)\n"
      ]
    },
    {
      "cell_type": "markdown",
      "metadata": {
        "id": "73pAzkPvUScF"
      },
      "source": [
        "## ⌨️ (1:11:39) Indexing (RAPTOR)\n"
      ]
    },
    {
      "cell_type": "markdown",
      "metadata": {
        "id": "nR_WMDtUUScG"
      },
      "source": [
        "## ⌨️ (1:19:19) Indexing (ColBERT)\n"
      ]
    },
    {
      "cell_type": "markdown",
      "metadata": {
        "id": "fbohAw-8UScG"
      },
      "source": [
        "## ⌨️ (1:26:32) CRAG\n"
      ]
    },
    {
      "cell_type": "markdown",
      "metadata": {
        "id": "yJ7XPGLVUScG"
      },
      "source": [
        "## ⌨️ (1:44:09) Adaptive RAG\n"
      ]
    },
    {
      "cell_type": "markdown",
      "metadata": {
        "id": "NnUzXoRTUScG"
      },
      "source": [
        "## ⌨️ (2:12:02) The future of RAG"
      ]
    }
  ],
  "metadata": {
    "colab": {
      "provenance": [],
      "include_colab_link": true
    },
    "kernelspec": {
      "display_name": "Python 3",
      "name": "python3"
    },
    "language_info": {
      "name": "python"
    }
  },
  "nbformat": 4,
  "nbformat_minor": 0
}